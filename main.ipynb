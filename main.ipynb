{
 "cells": [
  {
   "cell_type": "code",
   "execution_count": 3,
   "metadata": {},
   "outputs": [
    {
     "data": {
      "text/plain": [
       "345"
      ]
     },
     "execution_count": 3,
     "metadata": {},
     "output_type": "execute_result"
    }
   ],
   "source": [
    "def find_first_longest(arr):\n",
    "    count_zero = 0\n",
    "    item_com_maior_valor = None\n",
    "    \n",
    "    for i in arr:\n",
    "        tamanho_exato_item = len(str(i))\n",
    "        if tamanho_exato_item > count_zero:\n",
    "            count_zero = tamanho_exato_item\n",
    "            item_com_maior_valor = i\n",
    "    return item_com_maior_valor\n",
    "\n",
    "#[1, 10, 100], [20, 345, 1, 90], [500, 23, 7, 888, 44]\n",
    "find_first_longest([20, 345, 1, 90])"
   ]
  },
  {
   "attachments": {},
   "cell_type": "markdown",
   "metadata": {},
   "source": [
    " Escreva uma função chamada find_first_longest que recebe uma lista de números inteiros como argumento e retorna o número com mais dígitos na lista. Se houver dois ou mais números com o mesmo número máximo de dígitos, a função deve retornar o primeiro número encontrado.\n",
    "\n",
    "Por exemplo:\n",
    "\n",
    "python\n",
    "Copy code\n",
    "assert find_first_longest([1, 10, 100]) == 100\n",
    "assert find_first_longest([20, 345, 1, 90]) == 345\n",
    "assert find_first_longest([500, 23, 7, 888, 44]) == 500\n",
    "Na primeira chamada, a função deve retornar 100 porque é o número com mais dígitos (3 dígitos) na lista [1, 10, 100].\n",
    "\n",
    "Na segunda chamada, a função deve retornar 345 porque é o número com mais dígitos (3 dígitos) na lista [20, 345, 1, 90].\n",
    "\n",
    "Na terceira chamada, a função deve retornar 500 porque é o número com mais dígitos (3 dígitos) na lista [500, 23, 7, 888, 44]. Se houver empate, a função deve retornar o primeiro número encontrado, neste caso, 500."
   ]
  },
  {
   "cell_type": "code",
   "execution_count": 7,
   "metadata": {},
   "outputs": [
    {
     "data": {
      "text/plain": [
       "122333444455555"
      ]
     },
     "execution_count": 7,
     "metadata": {},
     "output_type": "execute_result"
    }
   ],
   "source": [
    "def find_most_frequent_digit(num_int):\n",
    "    count_zero = 0\n",
    "    item_com_maior_ocorrencia = None\n",
    "\n",
    "    for i in num_int:\n",
    "        tamanho_atual_item = len(str(i))\n",
    "        if tamanho_atual_item > count_zero:\n",
    "            count_zero = tamanho_atual_item\n",
    "            item_com_maior_ocorrencia = i\n",
    "    return item_com_maior_ocorrencia\n",
    "\n",
    "find_most_frequent_digit([122333444455555])"
   ]
  },
  {
   "attachments": {},
   "cell_type": "markdown",
   "metadata": {},
   "source": [
    "Escreva uma função chamada \"find_most_frequent_digit\" que recebe um número inteiro como argumento e retorna o dígito mais frequente no número. Se houver dois ou mais dígitos com a mesma frequência máxima, a função deve retornar o dígito menor.\n",
    "\n",
    "Por exemplo, se a entrada for 122333444455555, a função deve retornar 5 porque o dígito 5 aparece mais frequentemente. Se a entrada for 121212, a função deve retornar 1 porque o dígito 1 e o dígito 2 aparecem com a mesma frequência máxima, mas 1 é menor do que 2."
   ]
  }
 ],
 "metadata": {
  "kernelspec": {
   "display_name": "Python 3",
   "language": "python",
   "name": "python3"
  },
  "language_info": {
   "codemirror_mode": {
    "name": "ipython",
    "version": 3
   },
   "file_extension": ".py",
   "mimetype": "text/x-python",
   "name": "python",
   "nbconvert_exporter": "python",
   "pygments_lexer": "ipython3",
   "version": "3.10.11"
  },
  "orig_nbformat": 4
 },
 "nbformat": 4,
 "nbformat_minor": 2
}
