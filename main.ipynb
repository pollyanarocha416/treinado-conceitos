{
 "cells": [
  {
   "cell_type": "code",
   "execution_count": 3,
   "metadata": {},
   "outputs": [
    {
     "data": {
      "text/plain": [
       "345"
      ]
     },
     "execution_count": 3,
     "metadata": {},
     "output_type": "execute_result"
    }
   ],
   "source": [
    "def find_first_longest(arr):\n",
    "    count_zero = 0\n",
    "    item_com_maior_valor = None\n",
    "    \n",
    "    for i in arr:\n",
    "        tamanho_exato_item = len(str(i))\n",
    "        if tamanho_exato_item > count_zero:\n",
    "            count_zero = tamanho_exato_item\n",
    "            item_com_maior_valor = i\n",
    "    return item_com_maior_valor\n",
    "\n",
    "#[1, 10, 100], [20, 345, 1, 90], [500, 23, 7, 888, 44]\n",
    "find_first_longest([20, 345, 1, 90])"
   ]
  },
  {
   "attachments": {},
   "cell_type": "markdown",
   "metadata": {},
   "source": [
    " Escreva uma função chamada find_first_longest que recebe uma lista de números inteiros como argumento e retorna o número com mais dígitos na lista. Se houver dois ou mais números com o mesmo número máximo de dígitos, a função deve retornar o primeiro número encontrado.\n",
    "\n",
    "Por exemplo:\n",
    "\n",
    "python\n",
    "Copy code\n",
    "assert find_first_longest([1, 10, 100]) == 100\n",
    "assert find_first_longest([20, 345, 1, 90]) == 345\n",
    "assert find_first_longest([500, 23, 7, 888, 44]) == 500\n",
    "Na primeira chamada, a função deve retornar 100 porque é o número com mais dígitos (3 dígitos) na lista [1, 10, 100].\n",
    "\n",
    "Na segunda chamada, a função deve retornar 345 porque é o número com mais dígitos (3 dígitos) na lista [20, 345, 1, 90].\n",
    "\n",
    "Na terceira chamada, a função deve retornar 500 porque é o número com mais dígitos (3 dígitos) na lista [500, 23, 7, 888, 44]. Se houver empate, a função deve retornar o primeiro número encontrado, neste caso, 500."
   ]
  },
  {
   "cell_type": "code",
   "execution_count": 7,
   "metadata": {},
   "outputs": [
    {
     "data": {
      "text/plain": [
       "'5'"
      ]
     },
     "execution_count": 7,
     "metadata": {},
     "output_type": "execute_result"
    }
   ],
   "source": [
    "def find_most_frequent_digit(num_int):\n",
    "    count_zero = 0\n",
    "    item_com_maior_ocorrencia = None\n",
    "\n",
    "    for i in str(num_int):\n",
    "        ocorrencias = str(num_int).count(i)\n",
    "        if ocorrencias > count_zero:\n",
    "            count_zero = ocorrencias\n",
    "            item_com_maior_ocorrencia = i\n",
    "\n",
    "    return item_com_maior_ocorrencia\n",
    "\n",
    "find_most_frequent_digit(122334444555556)\n"
   ]
  },
  {
   "attachments": {},
   "cell_type": "markdown",
   "metadata": {},
   "source": [
    "Escreva uma função chamada \"find_most_frequent_digit\" que recebe um número inteiro como argumento e retorna o dígito mais frequente no número. Se houver dois ou mais dígitos com a mesma frequência máxima, a função deve retornar o dígito menor.\n",
    "\n",
    "Por exemplo, se a entrada for 122333444455555, a função deve retornar 5 porque o dígito 5 aparece mais frequentemente. Se a entrada for 121212, a função deve retornar 1 porque o dígito 1 e o dígito 2 aparecem com a mesma frequência máxima, mas 1 é menor do que 2."
   ]
  },
  {
   "cell_type": "code",
   "execution_count": null,
   "metadata": {},
   "outputs": [],
   "source": [
    "conexcao = mysql.connector.conect(\n",
    "    host='',\n",
    "    user='',\n",
    "    password='',\n",
    "    database=''\n",
    ")\n",
    "\n",
    "# ler os dados de dois csv e retornar os daod s deles juntos"
   ]
  },
  {
   "cell_type": "code",
   "execution_count": 3,
   "metadata": {},
   "outputs": [
    {
     "data": {
      "text/plain": [
       "[1, 2, 4, 4]"
      ]
     },
     "execution_count": 3,
     "metadata": {},
     "output_type": "execute_result"
    }
   ],
   "source": [
    "def array(arr):\n",
    "    arr_organizada = []\n",
    "    for _ in range(len(arr)):\n",
    "        min_num = min(arr)\n",
    "        arr_organizada.append(min_num)\n",
    "        arr.remove(min_num)\n",
    "    return arr_organizada\n",
    "array([1, 4, 2, 4])"
   ]
  },
  {
   "cell_type": "code",
   "execution_count": 6,
   "metadata": {},
   "outputs": [
    {
     "data": {
      "text/plain": [
       "'Wrong, please enter a number between 1 and 7'"
      ]
     },
     "execution_count": 6,
     "metadata": {},
     "output_type": "execute_result"
    }
   ],
   "source": [
    "def whatday(num):\n",
    "    month = ['Sunday', 'Monday', 'Tuesday', 'Wednesday', 'Thursday', 'Friday', 'Saturday']\n",
    "    if num == 1:\n",
    "        return month[0]\n",
    "    elif num == 2:\n",
    "        return month[1]\n",
    "    elif num == 3:\n",
    "        return month[2]\n",
    "    elif num == 4:\n",
    "        return month[3]\n",
    "    elif num == 5:\n",
    "        return month[4]\n",
    "    elif num == 6:\n",
    "        return month[5]\n",
    "    elif num == 7:\n",
    "        return month[6]\n",
    "    else:\n",
    "        return \"Wrong, please enter a number between 1 and 7\"\n",
    "whatday(9)\n",
    "    #if 1 <= num <= 7: #se o valor de num está entre 1 e 7 \n",
    "    #    return month[num - 1] # pq a contagem se inicia em 0\n",
    "    #else:\n",
    "    #    return \"Wrong, please enter a number between 1 and 7\""
   ]
  },
  {
   "cell_type": "code",
   "execution_count": 7,
   "metadata": {},
   "outputs": [
    {
     "data": {
      "text/plain": [
       "'Wednesday'"
      ]
     },
     "execution_count": 7,
     "metadata": {},
     "output_type": "execute_result"
    }
   ],
   "source": [
    "def whatday(num):\n",
    "    month = ['Sunday', 'Monday', 'Tuesday', 'Wednesday', 'Thursday', 'Friday', 'Saturday']\n",
    "    \n",
    "    if 1 <= num <= 7: #se o valor de num está entre 1 e 7 \n",
    "        return month[num - 1] # pq a contagem se inicia em 0\n",
    "    else:\n",
    "        return \"Wrong, please enter a number between 1 and 7\"\n",
    "whatday(4)"
   ]
  },
  {
   "cell_type": "code",
   "execution_count": null,
   "metadata": {},
   "outputs": [],
   "source": []
  }
 ],
 "metadata": {
  "kernelspec": {
   "display_name": "Python 3",
   "language": "python",
   "name": "python3"
  },
  "language_info": {
   "codemirror_mode": {
    "name": "ipython",
    "version": 3
   },
   "file_extension": ".py",
   "mimetype": "text/x-python",
   "name": "python",
   "nbconvert_exporter": "python",
   "pygments_lexer": "ipython3",
   "version": "3.10.11"
  },
  "orig_nbformat": 4
 },
 "nbformat": 4,
 "nbformat_minor": 2
}
