{
 "cells": [
  {
   "cell_type": "code",
   "execution_count": 3,
   "metadata": {},
   "outputs": [
    {
     "data": {
      "text/plain": [
       "345"
      ]
     },
     "execution_count": 3,
     "metadata": {},
     "output_type": "execute_result"
    }
   ],
   "source": [
    "def find_first_longest(arr):\n",
    "    count_zero = 0\n",
    "    item_com_maior_valor = None\n",
    "    \n",
    "    for i in arr:\n",
    "        tamanho_exato_item = len(str(i))\n",
    "        if tamanho_exato_item > count_zero:\n",
    "            count_zero = tamanho_exato_item\n",
    "            item_com_maior_valor = i\n",
    "    return item_com_maior_valor\n",
    "\n",
    "#[1, 10, 100], [20, 345, 1, 90], [500, 23, 7, 888, 44]\n",
    "find_first_longest([20, 345, 1, 90])"
   ]
  },
  {
   "attachments": {},
   "cell_type": "markdown",
   "metadata": {},
   "source": [
    " Escreva uma função chamada find_first_longest que recebe uma lista de números inteiros como argumento e retorna o número com mais dígitos na lista. Se houver dois ou mais números com o mesmo número máximo de dígitos, a função deve retornar o primeiro número encontrado.\n",
    "\n",
    "Por exemplo:\n",
    "\n",
    "python\n",
    "Copy code\n",
    "assert find_first_longest([1, 10, 100]) == 100\n",
    "assert find_first_longest([20, 345, 1, 90]) == 345\n",
    "assert find_first_longest([500, 23, 7, 888, 44]) == 500\n",
    "Na primeira chamada, a função deve retornar 100 porque é o número com mais dígitos (3 dígitos) na lista [1, 10, 100].\n",
    "\n",
    "Na segunda chamada, a função deve retornar 345 porque é o número com mais dígitos (3 dígitos) na lista [20, 345, 1, 90].\n",
    "\n",
    "Na terceira chamada, a função deve retornar 500 porque é o número com mais dígitos (3 dígitos) na lista [500, 23, 7, 888, 44]. Se houver empate, a função deve retornar o primeiro número encontrado, neste caso, 500."
   ]
  },
  {
   "cell_type": "code",
   "execution_count": 7,
   "metadata": {},
   "outputs": [
    {
     "data": {
      "text/plain": [
       "'5'"
      ]
     },
     "execution_count": 7,
     "metadata": {},
     "output_type": "execute_result"
    }
   ],
   "source": [
    "def find_most_frequent_digit(num_int):\n",
    "    count_zero = 0\n",
    "    item_com_maior_ocorrencia = None\n",
    "\n",
    "    for i in str(num_int):\n",
    "        ocorrencias = str(num_int).count(i)\n",
    "        if ocorrencias > count_zero:\n",
    "            count_zero = ocorrencias\n",
    "            item_com_maior_ocorrencia = i\n",
    "\n",
    "    return item_com_maior_ocorrencia\n",
    "\n",
    "find_most_frequent_digit(122334444555556)\n"
   ]
  },
  {
   "attachments": {},
   "cell_type": "markdown",
   "metadata": {},
   "source": [
    "Escreva uma função chamada \"find_most_frequent_digit\" que recebe um número inteiro como argumento e retorna o dígito mais frequente no número. Se houver dois ou mais dígitos com a mesma frequência máxima, a função deve retornar o dígito menor.\n",
    "\n",
    "Por exemplo, se a entrada for 122333444455555, a função deve retornar 5 porque o dígito 5 aparece mais frequentemente. Se a entrada for 121212, a função deve retornar 1 porque o dígito 1 e o dígito 2 aparecem com a mesma frequência máxima, mas 1 é menor do que 2."
   ]
  },
  {
   "cell_type": "code",
   "execution_count": null,
   "metadata": {},
   "outputs": [],
   "source": [
    "conexcao = mysql.connector.conect(\n",
    "    host='',\n",
    "    user='',\n",
    "    password='',\n",
    "    database=''\n",
    ")\n",
    "\n",
    "# ler os dados de dois csv e retornar os daod s deles juntos"
   ]
  },
  {
   "cell_type": "code",
   "execution_count": 3,
   "metadata": {},
   "outputs": [
    {
     "data": {
      "text/plain": [
       "[1, 2, 4, 4]"
      ]
     },
     "execution_count": 3,
     "metadata": {},
     "output_type": "execute_result"
    }
   ],
   "source": [
    "def array(arr):\n",
    "    arr_organizada = []\n",
    "    for _ in range(len(arr)):\n",
    "        min_num = min(arr)\n",
    "        arr_organizada.append(min_num)\n",
    "        arr.remove(min_num)\n",
    "    return arr_organizada\n",
    "array([1, 4, 2, 4])"
   ]
  },
  {
   "cell_type": "code",
   "execution_count": 6,
   "metadata": {},
   "outputs": [
    {
     "data": {
      "text/plain": [
       "'Wrong, please enter a number between 1 and 7'"
      ]
     },
     "execution_count": 6,
     "metadata": {},
     "output_type": "execute_result"
    }
   ],
   "source": [
    "def whatday(num):\n",
    "    month = ['Sunday', 'Monday', 'Tuesday', 'Wednesday', 'Thursday', 'Friday', 'Saturday']\n",
    "    if num == 1:\n",
    "        return month[0]\n",
    "    elif num == 2:\n",
    "        return month[1]\n",
    "    elif num == 3:\n",
    "        return month[2]\n",
    "    elif num == 4:\n",
    "        return month[3]\n",
    "    elif num == 5:\n",
    "        return month[4]\n",
    "    elif num == 6:\n",
    "        return month[5]\n",
    "    elif num == 7:\n",
    "        return month[6]\n",
    "    else:\n",
    "        return \"Wrong, please enter a number between 1 and 7\"\n",
    "whatday(9)\n",
    "    #if 1 <= num <= 7: #se o valor de num está entre 1 e 7 \n",
    "    #    return month[num - 1] # pq a contagem se inicia em 0\n",
    "    #else:\n",
    "    #    return \"Wrong, please enter a number between 1 and 7\""
   ]
  },
  {
   "cell_type": "code",
   "execution_count": 7,
   "metadata": {},
   "outputs": [
    {
     "data": {
      "text/plain": [
       "'Wednesday'"
      ]
     },
     "execution_count": 7,
     "metadata": {},
     "output_type": "execute_result"
    }
   ],
   "source": [
    "def whatday(num):\n",
    "    month = ['Sunday', 'Monday', 'Tuesday', 'Wednesday', 'Thursday', 'Friday', 'Saturday']\n",
    "    \n",
    "    if 1 <= num <= 7: #se o valor de num está entre 1 e 7 \n",
    "        return month[num - 1] # pq a contagem se inicia em 0\n",
    "    else:\n",
    "        return \"Wrong, please enter a number between 1 and 7\"\n",
    "whatday(4)"
   ]
  },
  {
   "attachments": {},
   "cell_type": "markdown",
   "metadata": {},
   "source": [
    "implementar uma versão simplificada de uma lista de compras usando arrays. A lista deve permitir adicionar novos itens, remover itens e listar todos os itens.\n",
    "\n",
    "Ao adicionar um novo item, o usuário deve inserir o nome do produto e a quantidade desejada. Ao remover um item, o usuário deve especificar o nome do produto. Por fim, ao listar todos os itens, a lista deve exibir o nome do produto e a quantidade em um formato legível.\n",
    "\n"
   ]
  },
  {
   "attachments": {},
   "cell_type": "markdown",
   "metadata": {},
   "source": [
    "Você pode criar uma classe chamada ListaDeCompras para resolver este desafio.\n",
    "\n",
    "V.\tComece definindo a classe ListaDeCompras e inicialize duas listas vazias, itens e quantidades, para armazenar os nomes dos produtos e as quantidades, respectivamente;\n",
    "\n",
    "\n",
    "2.\tCrie o método adicionar_item, que recebe como argumentos o nome do produto e a quantidade desejada. Dentro desse método, adicione o nome do produto à lista itens e a quantidade à lista quantidades;\n",
    "\n",
    "\n",
    "3.\tCrie o método remover_item, que recebe como argumento o nome do produto a ser removido. Dentro desse método, encontre o índice do produto na lista items e remova o produto tanto da lista itens quanto da lista quantidades;\n",
    "\n",
    "\n",
    "4.\tCrie o método listar_itens, que percorre a lista itens e a lista quantidades simultaneamente e exibe o nome do produto e a quantidade em um formato legível;\n",
    "\n",
    "\n",
    "5.\tTeste a sua implementação criando uma instância da classe ListaDeCompras, adicionando alguns itens, removendo um item e listando todos os itens restantes;\n",
    "\n",
    "\n",
    "6.\tComo uma tarefa extra, você pode implementar algumas validações extras, como verificar se o nome do produto está em formato válido e se a quantidade é um número inteiro positivo.\n"
   ]
  },
  {
   "cell_type": "code",
   "execution_count": 41,
   "metadata": {},
   "outputs": [
    {
     "name": "stdout",
     "output_type": "stream",
     "text": [
      "item adcionado: ['celular'], [2]\n",
      "item adcionado: ['celular', 'fone'], [2, 3]\n",
      "Produto celular removido, quantidade: 2\n",
      "Todos os itens de compra: ['fone'] e suas quantidades [3]\n",
      "item adcionado: ['fone', 'celular'], [3, 4]\n",
      "Produto celular removido, quantidade: 2\n",
      "Todos os itens de compra: ['fone', 'celular'] e suas quantidades [3, 2]\n"
     ]
    }
   ],
   "source": [
    "class ListaCompras:\n",
    "    def __init__(self, itens:list, quantidades:list) -> None:    \n",
    "        self.itens = itens \n",
    "        self.quantidades = quantidades\n",
    "        self.itens = []\n",
    "        self.quantidades = []\n",
    "\n",
    "#       Funcionando \n",
    "    def adicionar_item(self, nome_produto:str, quantidade_produto:float):\n",
    "        self.itens.append(nome_produto)\n",
    "        self.quantidades.append(quantidade_produto)\n",
    "        print(f'item adcionado: {self.itens}, {self.quantidades}')\n",
    "\n",
    "    def remover_item(self, nome_produto:str, quantidade_produto:float):\n",
    "        if nome_produto in self.itens:\n",
    "            index = self.itens.index(nome_produto)\n",
    "            if self.quantidades[index] >= quantidade_produto:\n",
    "                self.quantidades[index] -= quantidade_produto\n",
    "                if self.quantidades[index] == 0:\n",
    "                    self.itens.pop(index)\n",
    "                    self.quantidades.pop(index)\n",
    "                print(f'Produto {nome_produto} removido, quantidade: {quantidade_produto}')\n",
    "            else:\n",
    "                print('A quantidade especificada é maior do que a quantidade disponível')\n",
    "        else:\n",
    "            print('O produto não está na lista')\n",
    "    \n",
    "    def listar_itens(self):\n",
    "        print(f'Todos os itens de compra: {self.itens} e suas quantidades {self.quantidades}')\n",
    "        \n",
    "\n",
    "novo_item = ListaCompras('teste', 1)\n",
    "novo_item.adicionar_item('celular', 2)\n",
    "novo_item.adicionar_item('fone', 3)\n",
    "novo_item.remover_item('celular', 2)\n",
    "novo_item.listar_itens()\n",
    "novo_item.adicionar_item('celular', 4)\n",
    "novo_item.remover_item('celular', 2)\n",
    "novo_item.listar_itens()\n"
   ]
  },
  {
   "attachments": {},
   "cell_type": "markdown",
   "metadata": {},
   "source": [
    "class Node:\n",
    "  def __init__(self, valor):\n",
    "    self.valor = valor\n",
    "    self.proximoNo = None\n",
    "\n",
    "O desafio para o dia de hoje é implementar um sistema de gerenciamento de pacientes em um hospital usando listas simplesmente encadeadas.\n",
    "\n",
    "Cada paciente deve ter um nome, um número de identificação e o estado de saúde atual do paciente, como “estável”, “em tratamento intensivo”, “em estado crítico”, entre outros.\n",
    "\n",
    "O sistema deve permitir adicionar novos pacientes, remover pacientes e listar todos os pacientes em ordem de chegada.\n"
   ]
  },
  {
   "cell_type": "code",
   "execution_count": 24,
   "metadata": {},
   "outputs": [
    {
     "name": "stdout",
     "output_type": "stream",
     "text": [
      "Pacientes: Nome: ['polly'], estado: ['em tratamento intensivo'], id: [1]\n",
      "O estado de saúde não corresponde ao paciente especificado.\n",
      "Pacientes: Nome: ['polly'], estado: ['em tratamento intensivo'], id: [1]\n",
      "Paciente polly removido, número: 1, estado atual: em tratamento intensivo\n",
      "O estado de saúde não corresponde ao paciente especificado.\n",
      "Dados do paciente polly atualizados. Novo número: 1, novo estado de saúde: estável\n",
      "Pacientes: Nome: ['polly'], estado: ['estável'], id: [1]\n",
      "Paciente polly alta liberada, número: 1, estado atual: estável\n"
     ]
    }
   ],
   "source": [
    "class GerenciarPacientes:\n",
    "    def __init__(self, nome_paciente, num_identificacao, estado_de_saude) -> None:\n",
    "        self.nome_paciente = nome_paciente\n",
    "        self.num_identificacao = num_identificacao\n",
    "        self.estado_de_saude = estado_de_saude\n",
    "        self.nome_paciente = []\n",
    "        self.num_identificacao = []\n",
    "        self.estado_de_saude = []\n",
    "\n",
    "\n",
    "    def adicionar_paciente(self, nome, numero, estado_saude):\n",
    "        self.nome_paciente.append(nome)\n",
    "        self.num_identificacao.append(numero)\n",
    "        self.estado_de_saude.append(estado_saude)\n",
    "\n",
    "    def editar_paciente(self, nome, numero, estado_saude, novo_numero, novo_estado_saude):\n",
    "        if nome in self.nome_paciente:\n",
    "            index = self.nome_paciente.index(nome)\n",
    "            if self.num_identificacao[index] == numero and self.estado_de_saude[index] == estado_saude:\n",
    "                self.num_identificacao[index] = novo_numero\n",
    "                self.estado_de_saude[index] = novo_estado_saude\n",
    "                print(f'Dados do paciente {nome} atualizados. Novo número: {novo_numero}, novo estado de saúde: {novo_estado_saude}')\n",
    "            else:\n",
    "                print('Os dados fornecidos não correspondem ao paciente especificado.')\n",
    "        else:\n",
    "            print('O Paciente não está na lista')\n",
    "\n",
    "    def remover_paciente(self, nome, numero, estado_saude):\n",
    "        if nome in self.nome_paciente:\n",
    "            index = self.nome_paciente.index(nome)\n",
    "            if self.num_identificacao[index] >= numero:\n",
    "                if self.estado_de_saude[index] == estado_saude:  # Verifica se o estado de saúde é o mesmo\n",
    "                    self.num_identificacao[index] -= numero\n",
    "                    if self.num_identificacao[index] == 0:\n",
    "                        self.nome_paciente.pop(index)\n",
    "                        self.num_identificacao.pop(index)\n",
    "                        self.estado_de_saude.pop(index)\n",
    "                    print(f'Paciente {nome} removido, número: {numero}, estado atual: {estado_saude}')\n",
    "                else:\n",
    "                    print('O estado de saúde não corresponde ao paciente especificado.')\n",
    "            else:\n",
    "                print('O número especificado não corresponde ao paciente especificado.')\n",
    "        else:\n",
    "            print('O Paciente não está na lista')\n",
    "\n",
    "    def liberar_paciente(self, nome, numero, estado_saude):\n",
    "        if nome in self.nome_paciente:\n",
    "            index = self.nome_paciente.index(nome)\n",
    "            if self.num_identificacao[index] >= numero:\n",
    "                if self.estado_de_saude[index] == estado_saude:  # Verifica se o estado de saúde é o mesmo\n",
    "                    if estado_saude != 'estável':  # Verifica se o estado de saúde é diferente de 'estável'\n",
    "                        print('Não é possível liberar um paciente com estado de saúde diferente de \"estável\".')\n",
    "                    else:\n",
    "                        self.num_identificacao[index] -= numero\n",
    "                        if self.num_identificacao[index] == 0:\n",
    "                            self.nome_paciente.pop(index)\n",
    "                            self.num_identificacao.pop(index)\n",
    "                            self.estado_de_saude.pop(index)\n",
    "                        print(f'Paciente {nome} alta liberada, número: {numero}, estado atual: {estado_saude}')\n",
    "                else:\n",
    "                    print('O estado de saúde não corresponde ao paciente especificado.')\n",
    "            else:\n",
    "                print('O número especificado não corresponde ao paciente especificado.')\n",
    "        else:\n",
    "            print('O Paciente não está na lista')\n",
    "\n",
    "\n",
    "    def listar_pacientes(self):\n",
    "        print(f'Pacientes: Nome: {self.nome_paciente}, estado: {self.estado_de_saude}, id: {self.num_identificacao}')\n",
    "\n",
    "polly = GerenciarPacientes('teste', 1, 'bem')\n",
    "\n",
    "polly.adicionar_paciente('polly', 1, 'em tratamento intensivo')\n",
    "polly.listar_pacientes()\n",
    "polly.remover_paciente('polly', 1, 'estavel')\n",
    "polly.listar_pacientes()\n",
    "polly.remover_paciente('polly', 1, 'em tratamento intensivo')\n",
    "polly.adicionar_paciente('polly', 1, 'em tratamento intensivo')\n",
    "polly.liberar_paciente('polly', 1, 'estável')\n",
    "polly.editar_paciente('polly', 1, 'em tratamento intensivo', 1, 'estável')\n",
    "polly.listar_pacientes()\n",
    "polly.liberar_paciente('polly', 1, 'estável')"
   ]
  }
 ],
 "metadata": {
  "kernelspec": {
   "display_name": "Python 3",
   "language": "python",
   "name": "python3"
  },
  "language_info": {
   "codemirror_mode": {
    "name": "ipython",
    "version": 3
   },
   "file_extension": ".py",
   "mimetype": "text/x-python",
   "name": "python",
   "nbconvert_exporter": "python",
   "pygments_lexer": "ipython3",
   "version": "3.10.11"
  },
  "orig_nbformat": 4
 },
 "nbformat": 4,
 "nbformat_minor": 2
}
